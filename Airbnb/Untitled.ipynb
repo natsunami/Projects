{
 "cells": [
  {
   "cell_type": "code",
   "execution_count": 81,
   "metadata": {},
   "outputs": [],
   "source": [
    "import os, sys\n",
    "import numpy as np\n",
    "import pandas as pd\n",
    "from matplotlib import pyplot as plt\n",
    "import seaborn as sns\n",
    "import xgboost as xgb \n",
    "from sklearn.model_selection import train_test_split, cross_val_score, GridSearchCV, RandomizedSearchCV, cross_validate\n",
    "from sklearn.ensemble import RandomForestRegressor, AdaBoostRegressor, GradientBoostingRegressor\n",
    "from sklearn.preprocessing import StandardScaler, RobustScaler, OneHotEncoder, OrdinalEncoder\n",
    "from sklearn.impute import SimpleImputer\n",
    "from sklearn.pipeline import Pipeline\n",
    "from sklearn.compose import ColumnTransformer\n",
    "from sklearn.metrics import mean_squared_error, r2_score\n",
    "from sklearn.linear_model import LinearRegression\n",
    "from sklearn.decomposition import PCA, TruncatedSVD\n",
    "from category_encoders.target_encoder import TargetEncoder\n",
    "from category_encoders import LeaveOneOutEncoder\n",
    "\n",
    "\n"
   ]
  },
  {
   "cell_type": "code",
   "execution_count": 2,
   "metadata": {},
   "outputs": [],
   "source": [
    "path = '../../Datasets'\n",
    "file_name = 'listings.csv'\n",
    "filepath = os.path.join(path,file_name)"
   ]
  },
  {
   "cell_type": "code",
   "execution_count": 3,
   "metadata": {},
   "outputs": [
    {
     "name": "stderr",
     "output_type": "stream",
     "text": [
      "/home/natsunami/anaconda3/lib/python3.8/site-packages/IPython/core/interactiveshell.py:3145: DtypeWarning: Columns (43,61,62) have mixed types.Specify dtype option on import or set low_memory=False.\n",
      "  has_raised = await self.run_ast_nodes(code_ast.body, cell_name,\n"
     ]
    }
   ],
   "source": [
    "df = pd.read_csv(filepath)"
   ]
  },
  {
   "cell_type": "code",
   "execution_count": 4,
   "metadata": {},
   "outputs": [
    {
     "data": {
      "text/html": [
       "<div>\n",
       "<style scoped>\n",
       "    .dataframe tbody tr th:only-of-type {\n",
       "        vertical-align: middle;\n",
       "    }\n",
       "\n",
       "    .dataframe tbody tr th {\n",
       "        vertical-align: top;\n",
       "    }\n",
       "\n",
       "    .dataframe thead th {\n",
       "        text-align: right;\n",
       "    }\n",
       "</style>\n",
       "<table border=\"1\" class=\"dataframe\">\n",
       "  <thead>\n",
       "    <tr style=\"text-align: right;\">\n",
       "      <th></th>\n",
       "      <th>id</th>\n",
       "      <th>listing_url</th>\n",
       "      <th>scrape_id</th>\n",
       "      <th>last_scraped</th>\n",
       "      <th>name</th>\n",
       "      <th>summary</th>\n",
       "      <th>space</th>\n",
       "      <th>description</th>\n",
       "      <th>experiences_offered</th>\n",
       "      <th>neighborhood_overview</th>\n",
       "      <th>...</th>\n",
       "      <th>instant_bookable</th>\n",
       "      <th>is_business_travel_ready</th>\n",
       "      <th>cancellation_policy</th>\n",
       "      <th>require_guest_profile_picture</th>\n",
       "      <th>require_guest_phone_verification</th>\n",
       "      <th>calculated_host_listings_count</th>\n",
       "      <th>calculated_host_listings_count_entire_homes</th>\n",
       "      <th>calculated_host_listings_count_private_rooms</th>\n",
       "      <th>calculated_host_listings_count_shared_rooms</th>\n",
       "      <th>reviews_per_month</th>\n",
       "    </tr>\n",
       "  </thead>\n",
       "  <tbody>\n",
       "    <tr>\n",
       "      <th>0</th>\n",
       "      <td>2577</td>\n",
       "      <td>https://www.airbnb.com/rooms/2577</td>\n",
       "      <td>20200510041557</td>\n",
       "      <td>2020-05-12</td>\n",
       "      <td>Loft for 4 by Canal Saint Martin</td>\n",
       "      <td>100 m2 loft (1100 sq feet) with high ceiling, ...</td>\n",
       "      <td>The district has any service or shop you may d...</td>\n",
       "      <td>100 m2 loft (1100 sq feet) with high ceiling, ...</td>\n",
       "      <td>none</td>\n",
       "      <td>NaN</td>\n",
       "      <td>...</td>\n",
       "      <td>t</td>\n",
       "      <td>f</td>\n",
       "      <td>strict_14_with_grace_period</td>\n",
       "      <td>f</td>\n",
       "      <td>f</td>\n",
       "      <td>1</td>\n",
       "      <td>1</td>\n",
       "      <td>0</td>\n",
       "      <td>0</td>\n",
       "      <td>0.06</td>\n",
       "    </tr>\n",
       "    <tr>\n",
       "      <th>1</th>\n",
       "      <td>3109</td>\n",
       "      <td>https://www.airbnb.com/rooms/3109</td>\n",
       "      <td>20200510041557</td>\n",
       "      <td>2020-05-13</td>\n",
       "      <td>zen and calm</td>\n",
       "      <td>Appartement très calme de 50M2 Utilisation de ...</td>\n",
       "      <td>I bedroom appartment in Paris 14</td>\n",
       "      <td>I bedroom appartment in Paris 14 Good restaura...</td>\n",
       "      <td>none</td>\n",
       "      <td>Good restaurants very close the Montparnasse S...</td>\n",
       "      <td>...</td>\n",
       "      <td>f</td>\n",
       "      <td>f</td>\n",
       "      <td>flexible</td>\n",
       "      <td>f</td>\n",
       "      <td>f</td>\n",
       "      <td>1</td>\n",
       "      <td>1</td>\n",
       "      <td>0</td>\n",
       "      <td>0</td>\n",
       "      <td>0.22</td>\n",
       "    </tr>\n",
       "    <tr>\n",
       "      <th>2</th>\n",
       "      <td>5396</td>\n",
       "      <td>https://www.airbnb.com/rooms/5396</td>\n",
       "      <td>20200510041557</td>\n",
       "      <td>2020-05-13</td>\n",
       "      <td>Explore the heart of old Paris</td>\n",
       "      <td>Cozy, well-appointed and graciously designed s...</td>\n",
       "      <td>Small, well appointed studio apartment at the ...</td>\n",
       "      <td>Cozy, well-appointed and graciously designed s...</td>\n",
       "      <td>none</td>\n",
       "      <td>You are within walking distance to the Louvre,...</td>\n",
       "      <td>...</td>\n",
       "      <td>t</td>\n",
       "      <td>f</td>\n",
       "      <td>strict_14_with_grace_period</td>\n",
       "      <td>f</td>\n",
       "      <td>f</td>\n",
       "      <td>1</td>\n",
       "      <td>1</td>\n",
       "      <td>0</td>\n",
       "      <td>0</td>\n",
       "      <td>1.66</td>\n",
       "    </tr>\n",
       "    <tr>\n",
       "      <th>3</th>\n",
       "      <td>7397</td>\n",
       "      <td>https://www.airbnb.com/rooms/7397</td>\n",
       "      <td>20200510041557</td>\n",
       "      <td>2020-05-13</td>\n",
       "      <td>MARAIS - 2ROOMS APT - 2/4 PEOPLE</td>\n",
       "      <td>VERY CONVENIENT, WITH THE BEST LOCATION !</td>\n",
       "      <td>PLEASE ASK ME BEFORE TO MAKE A REQUEST !!! No ...</td>\n",
       "      <td>VERY CONVENIENT, WITH THE BEST LOCATION ! PLEA...</td>\n",
       "      <td>none</td>\n",
       "      <td>NaN</td>\n",
       "      <td>...</td>\n",
       "      <td>f</td>\n",
       "      <td>f</td>\n",
       "      <td>moderate</td>\n",
       "      <td>f</td>\n",
       "      <td>f</td>\n",
       "      <td>5</td>\n",
       "      <td>5</td>\n",
       "      <td>0</td>\n",
       "      <td>0</td>\n",
       "      <td>2.42</td>\n",
       "    </tr>\n",
       "    <tr>\n",
       "      <th>4</th>\n",
       "      <td>7964</td>\n",
       "      <td>https://www.airbnb.com/rooms/7964</td>\n",
       "      <td>20200510041557</td>\n",
       "      <td>2020-05-12</td>\n",
       "      <td>Large &amp; sunny flat with balcony !</td>\n",
       "      <td>Very large &amp; nice apartment all for you!  - Su...</td>\n",
       "      <td>hello ! We have a great 75 square meter apartm...</td>\n",
       "      <td>Very large &amp; nice apartment all for you!  - Su...</td>\n",
       "      <td>none</td>\n",
       "      <td>NaN</td>\n",
       "      <td>...</td>\n",
       "      <td>f</td>\n",
       "      <td>f</td>\n",
       "      <td>strict_14_with_grace_period</td>\n",
       "      <td>f</td>\n",
       "      <td>f</td>\n",
       "      <td>1</td>\n",
       "      <td>1</td>\n",
       "      <td>0</td>\n",
       "      <td>0</td>\n",
       "      <td>0.05</td>\n",
       "    </tr>\n",
       "  </tbody>\n",
       "</table>\n",
       "<p>5 rows × 106 columns</p>\n",
       "</div>"
      ],
      "text/plain": [
       "     id                        listing_url       scrape_id last_scraped  \\\n",
       "0  2577  https://www.airbnb.com/rooms/2577  20200510041557   2020-05-12   \n",
       "1  3109  https://www.airbnb.com/rooms/3109  20200510041557   2020-05-13   \n",
       "2  5396  https://www.airbnb.com/rooms/5396  20200510041557   2020-05-13   \n",
       "3  7397  https://www.airbnb.com/rooms/7397  20200510041557   2020-05-13   \n",
       "4  7964  https://www.airbnb.com/rooms/7964  20200510041557   2020-05-12   \n",
       "\n",
       "                                name  \\\n",
       "0   Loft for 4 by Canal Saint Martin   \n",
       "1                       zen and calm   \n",
       "2     Explore the heart of old Paris   \n",
       "3   MARAIS - 2ROOMS APT - 2/4 PEOPLE   \n",
       "4  Large & sunny flat with balcony !   \n",
       "\n",
       "                                             summary  \\\n",
       "0  100 m2 loft (1100 sq feet) with high ceiling, ...   \n",
       "1  Appartement très calme de 50M2 Utilisation de ...   \n",
       "2  Cozy, well-appointed and graciously designed s...   \n",
       "3          VERY CONVENIENT, WITH THE BEST LOCATION !   \n",
       "4  Very large & nice apartment all for you!  - Su...   \n",
       "\n",
       "                                               space  \\\n",
       "0  The district has any service or shop you may d...   \n",
       "1                   I bedroom appartment in Paris 14   \n",
       "2  Small, well appointed studio apartment at the ...   \n",
       "3  PLEASE ASK ME BEFORE TO MAKE A REQUEST !!! No ...   \n",
       "4  hello ! We have a great 75 square meter apartm...   \n",
       "\n",
       "                                         description experiences_offered  \\\n",
       "0  100 m2 loft (1100 sq feet) with high ceiling, ...                none   \n",
       "1  I bedroom appartment in Paris 14 Good restaura...                none   \n",
       "2  Cozy, well-appointed and graciously designed s...                none   \n",
       "3  VERY CONVENIENT, WITH THE BEST LOCATION ! PLEA...                none   \n",
       "4  Very large & nice apartment all for you!  - Su...                none   \n",
       "\n",
       "                               neighborhood_overview  ... instant_bookable  \\\n",
       "0                                                NaN  ...                t   \n",
       "1  Good restaurants very close the Montparnasse S...  ...                f   \n",
       "2  You are within walking distance to the Louvre,...  ...                t   \n",
       "3                                                NaN  ...                f   \n",
       "4                                                NaN  ...                f   \n",
       "\n",
       "  is_business_travel_ready          cancellation_policy  \\\n",
       "0                        f  strict_14_with_grace_period   \n",
       "1                        f                     flexible   \n",
       "2                        f  strict_14_with_grace_period   \n",
       "3                        f                     moderate   \n",
       "4                        f  strict_14_with_grace_period   \n",
       "\n",
       "  require_guest_profile_picture require_guest_phone_verification  \\\n",
       "0                             f                                f   \n",
       "1                             f                                f   \n",
       "2                             f                                f   \n",
       "3                             f                                f   \n",
       "4                             f                                f   \n",
       "\n",
       "   calculated_host_listings_count  \\\n",
       "0                               1   \n",
       "1                               1   \n",
       "2                               1   \n",
       "3                               5   \n",
       "4                               1   \n",
       "\n",
       "   calculated_host_listings_count_entire_homes  \\\n",
       "0                                            1   \n",
       "1                                            1   \n",
       "2                                            1   \n",
       "3                                            5   \n",
       "4                                            1   \n",
       "\n",
       "  calculated_host_listings_count_private_rooms  \\\n",
       "0                                            0   \n",
       "1                                            0   \n",
       "2                                            0   \n",
       "3                                            0   \n",
       "4                                            0   \n",
       "\n",
       "   calculated_host_listings_count_shared_rooms  reviews_per_month  \n",
       "0                                            0               0.06  \n",
       "1                                            0               0.22  \n",
       "2                                            0               1.66  \n",
       "3                                            0               2.42  \n",
       "4                                            0               0.05  \n",
       "\n",
       "[5 rows x 106 columns]"
      ]
     },
     "execution_count": 4,
     "metadata": {},
     "output_type": "execute_result"
    }
   ],
   "source": [
    "df.head()"
   ]
  },
  {
   "cell_type": "code",
   "execution_count": 5,
   "metadata": {},
   "outputs": [
    {
     "data": {
      "text/plain": [
       "Index(['id', 'listing_url', 'scrape_id', 'last_scraped', 'name', 'summary',\n",
       "       'space', 'description', 'experiences_offered', 'neighborhood_overview',\n",
       "       ...\n",
       "       'instant_bookable', 'is_business_travel_ready', 'cancellation_policy',\n",
       "       'require_guest_profile_picture', 'require_guest_phone_verification',\n",
       "       'calculated_host_listings_count',\n",
       "       'calculated_host_listings_count_entire_homes',\n",
       "       'calculated_host_listings_count_private_rooms',\n",
       "       'calculated_host_listings_count_shared_rooms', 'reviews_per_month'],\n",
       "      dtype='object', length=106)"
      ]
     },
     "execution_count": 5,
     "metadata": {},
     "output_type": "execute_result"
    }
   ],
   "source": [
    "df.columns"
   ]
  },
  {
   "cell_type": "code",
   "execution_count": 6,
   "metadata": {},
   "outputs": [
    {
     "data": {
      "text/plain": [
       "(66900, 106)"
      ]
     },
     "execution_count": 6,
     "metadata": {},
     "output_type": "execute_result"
    }
   ],
   "source": [
    "df.shape"
   ]
  },
  {
   "cell_type": "code",
   "execution_count": 7,
   "metadata": {},
   "outputs": [],
   "source": [
    "isna_mask = (df.isna().sum()/df.shape[0]*100) < 30"
   ]
  },
  {
   "cell_type": "code",
   "execution_count": 8,
   "metadata": {},
   "outputs": [
    {
     "data": {
      "text/plain": [
       "neighborhood_overview           False\n",
       "notes                           False\n",
       "transit                         False\n",
       "access                          False\n",
       "interaction                     False\n",
       "house_rules                     False\n",
       "thumbnail_url                   False\n",
       "medium_url                      False\n",
       "xl_picture_url                  False\n",
       "host_about                      False\n",
       "host_response_time              False\n",
       "host_response_rate              False\n",
       "host_acceptance_rate            False\n",
       "neighbourhood_group_cleansed    False\n",
       "square_feet                     False\n",
       "weekly_price                    False\n",
       "monthly_price                   False\n",
       "license                         False\n",
       "dtype: bool"
      ]
     },
     "execution_count": 8,
     "metadata": {},
     "output_type": "execute_result"
    }
   ],
   "source": [
    "isna_mask[isna_mask == False]"
   ]
  },
  {
   "cell_type": "code",
   "execution_count": 9,
   "metadata": {},
   "outputs": [],
   "source": [
    "df = df.loc[:, isna_mask]"
   ]
  },
  {
   "cell_type": "code",
   "execution_count": 10,
   "metadata": {},
   "outputs": [],
   "source": [
    "df_duplicated = df.duplicated(subset='id',keep=False)"
   ]
  },
  {
   "cell_type": "code",
   "execution_count": 11,
   "metadata": {},
   "outputs": [
    {
     "data": {
      "text/plain": [
       "Series([], dtype: bool)"
      ]
     },
     "execution_count": 11,
     "metadata": {},
     "output_type": "execute_result"
    }
   ],
   "source": [
    "df_duplicated[df_duplicated == True]"
   ]
  },
  {
   "cell_type": "code",
   "execution_count": 12,
   "metadata": {},
   "outputs": [],
   "source": [
    "list(df.columns)\n",
    "columns_to_keep = [\n",
    " 'zipcode',\n",
    " 'property_type',\n",
    " 'room_type',\n",
    " 'accommodates',\n",
    " 'bathrooms',\n",
    " 'bedrooms',\n",
    " 'beds',\n",
    " 'bed_type',\n",
    " 'amenities',\n",
    " 'price',\n",
    " 'security_deposit',\n",
    " 'cleaning_fee',\n",
    " 'guests_included',\n",
    " 'extra_people',\n",
    " 'minimum_nights',\n",
    " 'maximum_nights',\n",
    " 'number_of_reviews'\n",
    " ]"
   ]
  },
  {
   "cell_type": "code",
   "execution_count": 13,
   "metadata": {},
   "outputs": [],
   "source": [
    "df = df.loc[:,columns_to_keep]"
   ]
  },
  {
   "cell_type": "code",
   "execution_count": 14,
   "metadata": {},
   "outputs": [
    {
     "data": {
      "text/plain": [
       "(66900, 17)"
      ]
     },
     "execution_count": 14,
     "metadata": {},
     "output_type": "execute_result"
    }
   ],
   "source": [
    "df.shape"
   ]
  },
  {
   "cell_type": "code",
   "execution_count": 15,
   "metadata": {},
   "outputs": [],
   "source": [
    "df_numerical = df.select_dtypes(include=['int','float'])\n",
    "df_others = df.select_dtypes(exclude=['int','float'])"
   ]
  },
  {
   "cell_type": "code",
   "execution_count": 16,
   "metadata": {},
   "outputs": [
    {
     "data": {
      "text/html": [
       "<div>\n",
       "<style scoped>\n",
       "    .dataframe tbody tr th:only-of-type {\n",
       "        vertical-align: middle;\n",
       "    }\n",
       "\n",
       "    .dataframe tbody tr th {\n",
       "        vertical-align: top;\n",
       "    }\n",
       "\n",
       "    .dataframe thead th {\n",
       "        text-align: right;\n",
       "    }\n",
       "</style>\n",
       "<table border=\"1\" class=\"dataframe\">\n",
       "  <thead>\n",
       "    <tr style=\"text-align: right;\">\n",
       "      <th></th>\n",
       "      <th>accommodates</th>\n",
       "      <th>bathrooms</th>\n",
       "      <th>bedrooms</th>\n",
       "      <th>beds</th>\n",
       "      <th>guests_included</th>\n",
       "      <th>minimum_nights</th>\n",
       "      <th>maximum_nights</th>\n",
       "      <th>number_of_reviews</th>\n",
       "    </tr>\n",
       "  </thead>\n",
       "  <tbody>\n",
       "    <tr>\n",
       "      <th>0</th>\n",
       "      <td>4</td>\n",
       "      <td>2.0</td>\n",
       "      <td>2.0</td>\n",
       "      <td>2.0</td>\n",
       "      <td>1</td>\n",
       "      <td>3</td>\n",
       "      <td>1125</td>\n",
       "      <td>1</td>\n",
       "    </tr>\n",
       "    <tr>\n",
       "      <th>1</th>\n",
       "      <td>2</td>\n",
       "      <td>1.0</td>\n",
       "      <td>0.0</td>\n",
       "      <td>1.0</td>\n",
       "      <td>1</td>\n",
       "      <td>2</td>\n",
       "      <td>30</td>\n",
       "      <td>9</td>\n",
       "    </tr>\n",
       "    <tr>\n",
       "      <th>2</th>\n",
       "      <td>2</td>\n",
       "      <td>1.0</td>\n",
       "      <td>0.0</td>\n",
       "      <td>1.0</td>\n",
       "      <td>1</td>\n",
       "      <td>1</td>\n",
       "      <td>2</td>\n",
       "      <td>220</td>\n",
       "    </tr>\n",
       "    <tr>\n",
       "      <th>3</th>\n",
       "      <td>4</td>\n",
       "      <td>1.0</td>\n",
       "      <td>2.0</td>\n",
       "      <td>2.0</td>\n",
       "      <td>2</td>\n",
       "      <td>10</td>\n",
       "      <td>130</td>\n",
       "      <td>268</td>\n",
       "    </tr>\n",
       "    <tr>\n",
       "      <th>4</th>\n",
       "      <td>2</td>\n",
       "      <td>1.0</td>\n",
       "      <td>1.0</td>\n",
       "      <td>1.0</td>\n",
       "      <td>2</td>\n",
       "      <td>6</td>\n",
       "      <td>365</td>\n",
       "      <td>6</td>\n",
       "    </tr>\n",
       "    <tr>\n",
       "      <th>...</th>\n",
       "      <td>...</td>\n",
       "      <td>...</td>\n",
       "      <td>...</td>\n",
       "      <td>...</td>\n",
       "      <td>...</td>\n",
       "      <td>...</td>\n",
       "      <td>...</td>\n",
       "      <td>...</td>\n",
       "    </tr>\n",
       "    <tr>\n",
       "      <th>66895</th>\n",
       "      <td>2</td>\n",
       "      <td>1.0</td>\n",
       "      <td>NaN</td>\n",
       "      <td>1.0</td>\n",
       "      <td>1</td>\n",
       "      <td>2</td>\n",
       "      <td>1125</td>\n",
       "      <td>0</td>\n",
       "    </tr>\n",
       "    <tr>\n",
       "      <th>66896</th>\n",
       "      <td>4</td>\n",
       "      <td>1.0</td>\n",
       "      <td>1.0</td>\n",
       "      <td>1.0</td>\n",
       "      <td>1</td>\n",
       "      <td>1</td>\n",
       "      <td>1125</td>\n",
       "      <td>0</td>\n",
       "    </tr>\n",
       "    <tr>\n",
       "      <th>66897</th>\n",
       "      <td>5</td>\n",
       "      <td>1.0</td>\n",
       "      <td>1.0</td>\n",
       "      <td>5.0</td>\n",
       "      <td>1</td>\n",
       "      <td>30</td>\n",
       "      <td>105</td>\n",
       "      <td>0</td>\n",
       "    </tr>\n",
       "    <tr>\n",
       "      <th>66898</th>\n",
       "      <td>2</td>\n",
       "      <td>1.0</td>\n",
       "      <td>0.0</td>\n",
       "      <td>NaN</td>\n",
       "      <td>1</td>\n",
       "      <td>2</td>\n",
       "      <td>1125</td>\n",
       "      <td>0</td>\n",
       "    </tr>\n",
       "    <tr>\n",
       "      <th>66899</th>\n",
       "      <td>1</td>\n",
       "      <td>1.0</td>\n",
       "      <td>1.0</td>\n",
       "      <td>0.0</td>\n",
       "      <td>1</td>\n",
       "      <td>30</td>\n",
       "      <td>1125</td>\n",
       "      <td>0</td>\n",
       "    </tr>\n",
       "  </tbody>\n",
       "</table>\n",
       "<p>66900 rows × 8 columns</p>\n",
       "</div>"
      ],
      "text/plain": [
       "       accommodates  bathrooms  bedrooms  beds  guests_included  \\\n",
       "0                 4        2.0       2.0   2.0                1   \n",
       "1                 2        1.0       0.0   1.0                1   \n",
       "2                 2        1.0       0.0   1.0                1   \n",
       "3                 4        1.0       2.0   2.0                2   \n",
       "4                 2        1.0       1.0   1.0                2   \n",
       "...             ...        ...       ...   ...              ...   \n",
       "66895             2        1.0       NaN   1.0                1   \n",
       "66896             4        1.0       1.0   1.0                1   \n",
       "66897             5        1.0       1.0   5.0                1   \n",
       "66898             2        1.0       0.0   NaN                1   \n",
       "66899             1        1.0       1.0   0.0                1   \n",
       "\n",
       "       minimum_nights  maximum_nights  number_of_reviews  \n",
       "0                   3            1125                  1  \n",
       "1                   2              30                  9  \n",
       "2                   1               2                220  \n",
       "3                  10             130                268  \n",
       "4                   6             365                  6  \n",
       "...               ...             ...                ...  \n",
       "66895               2            1125                  0  \n",
       "66896               1            1125                  0  \n",
       "66897              30             105                  0  \n",
       "66898               2            1125                  0  \n",
       "66899              30            1125                  0  \n",
       "\n",
       "[66900 rows x 8 columns]"
      ]
     },
     "execution_count": 16,
     "metadata": {},
     "output_type": "execute_result"
    }
   ],
   "source": [
    "df_numerical"
   ]
  },
  {
   "cell_type": "code",
   "execution_count": 17,
   "metadata": {},
   "outputs": [
    {
     "data": {
      "text/plain": [
       "<AxesSubplot:>"
      ]
     },
     "execution_count": 17,
     "metadata": {},
     "output_type": "execute_result"
    },
    {
     "data": {
      "image/png": "[encoded data removed]",
      "text/plain": [
       "<Figure size 432x288 with 2 Axes>"
      ]
     },
     "metadata": {
      "needs_background": "light"
     },
     "output_type": "display_data"
    }
   ],
   "source": [
    "sns.heatmap(df_numerical.corr())"
   ]
  },
  {
   "cell_type": "code",
   "execution_count": 18,
   "metadata": {},
   "outputs": [],
   "source": [
    "corr_mask = np.triu(np.ones_like(df_numerical.corr().abs(), dtype = bool))\n",
    "df_numerical_corr_masked = df_numerical.corr().abs().mask(corr_mask)\n",
    "\n",
    "numerical_col_to_remove = [ c for c in df_numerical_corr_masked.columns if any(df_numerical_corr_masked[c] > 0.8)]"
   ]
  },
  {
   "cell_type": "code",
   "execution_count": 19,
   "metadata": {},
   "outputs": [
    {
     "name": "stderr",
     "output_type": "stream",
     "text": [
      "<ipython-input-19-3b2f54f4ee42>:1: SettingWithCopyWarning: \n",
      "A value is trying to be set on a copy of a slice from a DataFrame.\n",
      "Try using .loc[row_indexer,col_indexer] = value instead\n",
      "\n",
      "See the caveats in the documentation: https://pandas.pydata.org/pandas-docs/stable/user_guide/indexing.html#returning-a-view-versus-a-copy\n",
      "  df_numerical['mean_num_nights'] = (df_numerical['minimum_nights'] + df_numerical['maximum_nights'])/2\n",
      "/home/natsunami/anaconda3/lib/python3.8/site-packages/pandas/core/frame.py:4160: SettingWithCopyWarning: \n",
      "A value is trying to be set on a copy of a slice from a DataFrame\n",
      "\n",
      "See the caveats in the documentation: https://pandas.pydata.org/pandas-docs/stable/user_guide/indexing.html#returning-a-view-versus-a-copy\n",
      "  return super().drop(\n"
     ]
    }
   ],
   "source": [
    "df_numerical['mean_num_nights'] = (df_numerical['minimum_nights'] + df_numerical['maximum_nights'])/2\n",
    "df_numerical.drop(['minimum_nights','maximum_nights'], axis=1, inplace=True)"
   ]
  },
  {
   "cell_type": "code",
   "execution_count": 20,
   "metadata": {},
   "outputs": [
    {
     "name": "stderr",
     "output_type": "stream",
     "text": [
      "<ipython-input-20-0bdee256f200>:4: SettingWithCopyWarning: \n",
      "A value is trying to be set on a copy of a slice from a DataFrame.\n",
      "Try using .loc[row_indexer,col_indexer] = value instead\n",
      "\n",
      "See the caveats in the documentation: https://pandas.pydata.org/pandas-docs/stable/user_guide/indexing.html#returning-a-view-versus-a-copy\n",
      "  df_others[col] = df_others[col].str.replace('$','').str.replace(\",\",\"\").astype('float')\n"
     ]
    }
   ],
   "source": [
    "priced_col = ['price','security_deposit','cleaning_fee','extra_people']\n",
    "\n",
    "for col in priced_col:\n",
    "    df_others[col] = df_others[col].str.replace('$','').str.replace(\",\",\"\").astype('float')"
   ]
  },
  {
   "cell_type": "code",
   "execution_count": 21,
   "metadata": {},
   "outputs": [
    {
     "name": "stderr",
     "output_type": "stream",
     "text": [
      "<ipython-input-21-b348a435bc77>:5: SettingWithCopyWarning: \n",
      "A value is trying to be set on a copy of a slice from a DataFrame.\n",
      "Try using .loc[row_indexer,col_indexer] = value instead\n",
      "\n",
      "See the caveats in the documentation: https://pandas.pydata.org/pandas-docs/stable/user_guide/indexing.html#returning-a-view-versus-a-copy\n",
      "  df_others['amenities'] = df_others['amenities'].apply(lambda x: amenities_cleaning(x))\n"
     ]
    }
   ],
   "source": [
    "\n",
    "def amenities_cleaning(x):\n",
    "    x =  len(x.replace('{','').replace('}','').split(','))\n",
    "    return x\n",
    "\n",
    "df_others['amenities'] = df_others['amenities'].apply(lambda x: amenities_cleaning(x))"
   ]
  },
  {
   "cell_type": "code",
   "execution_count": 22,
   "metadata": {},
   "outputs": [
    {
     "name": "stderr",
     "output_type": "stream",
     "text": [
      "<ipython-input-22-f5aae3f715ea>:3: SettingWithCopyWarning: \n",
      "A value is trying to be set on a copy of a slice from a DataFrame\n",
      "\n",
      "See the caveats in the documentation: https://pandas.pydata.org/pandas-docs/stable/user_guide/indexing.html#returning-a-view-versus-a-copy\n",
      "  df_others['zipcode'][mask_isin_zipcode] = 'Other'\n",
      "/home/natsunami/anaconda3/lib/python3.8/site-packages/pandas/core/series.py:1020: SettingWithCopyWarning: \n",
      "A value is trying to be set on a copy of a slice from a DataFrame\n",
      "\n",
      "See the caveats in the documentation: https://pandas.pydata.org/pandas-docs/stable/user_guide/indexing.html#returning-a-view-versus-a-copy\n",
      "  self._where(~key, value, inplace=True)\n",
      "<ipython-input-22-f5aae3f715ea>:4: SettingWithCopyWarning: \n",
      "A value is trying to be set on a copy of a slice from a DataFrame.\n",
      "Try using .loc[row_indexer,col_indexer] = value instead\n",
      "\n",
      "See the caveats in the documentation: https://pandas.pydata.org/pandas-docs/stable/user_guide/indexing.html#returning-a-view-versus-a-copy\n",
      "  df_others['zipcode_clean'] = df_others['zipcode'].astype('str').apply(lambda x: x.replace(\".0\",\"\"))\n",
      "/home/natsunami/anaconda3/lib/python3.8/site-packages/pandas/core/frame.py:4160: SettingWithCopyWarning: \n",
      "A value is trying to be set on a copy of a slice from a DataFrame\n",
      "\n",
      "See the caveats in the documentation: https://pandas.pydata.org/pandas-docs/stable/user_guide/indexing.html#returning-a-view-versus-a-copy\n",
      "  return super().drop(\n"
     ]
    }
   ],
   "source": [
    "zipcode_mask = df_others['zipcode'].value_counts().index[df_others['zipcode'].value_counts() < 800]\n",
    "mask_isin_zipcode = df_others['zipcode'].isin(zipcode_mask)\n",
    "df_others['zipcode'][mask_isin_zipcode] = 'Other'\n",
    "df_others['zipcode_clean'] = df_others['zipcode'].astype('str').apply(lambda x: x.replace(\".0\",\"\"))\n",
    "df_others.drop(['zipcode'], axis=1,inplace=True)"
   ]
  },
  {
   "cell_type": "code",
   "execution_count": 23,
   "metadata": {},
   "outputs": [
    {
     "name": "stderr",
     "output_type": "stream",
     "text": [
      "<ipython-input-23-5ab677417e66>:3: SettingWithCopyWarning: \n",
      "A value is trying to be set on a copy of a slice from a DataFrame\n",
      "\n",
      "See the caveats in the documentation: https://pandas.pydata.org/pandas-docs/stable/user_guide/indexing.html#returning-a-view-versus-a-copy\n",
      "  df_others['property_type'][mask_isin_exotic] = 'Exotic'\n",
      "/home/natsunami/anaconda3/lib/python3.8/site-packages/pandas/core/series.py:1020: SettingWithCopyWarning: \n",
      "A value is trying to be set on a copy of a slice from a DataFrame\n",
      "\n",
      "See the caveats in the documentation: https://pandas.pydata.org/pandas-docs/stable/user_guide/indexing.html#returning-a-view-versus-a-copy\n",
      "  self._where(~key, value, inplace=True)\n"
     ]
    }
   ],
   "source": [
    "exotic_properties = df_others['property_type'].value_counts()[df_others['property_type'].value_counts() < 10].index\n",
    "mask_isin_exotic = df_others['property_type'].isin(exotic_properties)\n",
    "df_others['property_type'][mask_isin_exotic] = 'Exotic'"
   ]
  },
  {
   "cell_type": "code",
   "execution_count": 24,
   "metadata": {},
   "outputs": [
    {
     "data": {
      "text/plain": [
       "array(['Entire home/apt', 'Private room', 'Hotel room', 'Shared room'],\n",
       "      dtype=object)"
      ]
     },
     "execution_count": 24,
     "metadata": {},
     "output_type": "execute_result"
    }
   ],
   "source": [
    "df_others['room_type'].unique()"
   ]
  },
  {
   "cell_type": "code",
   "execution_count": 25,
   "metadata": {},
   "outputs": [
    {
     "data": {
      "text/plain": [
       "array(['Real Bed', 'Pull-out Sofa', 'Couch', 'Futon', 'Airbed', nan],\n",
       "      dtype=object)"
      ]
     },
     "execution_count": 25,
     "metadata": {},
     "output_type": "execute_result"
    }
   ],
   "source": [
    "df_others['bed_type'].unique()"
   ]
  },
  {
   "cell_type": "code",
   "execution_count": 26,
   "metadata": {},
   "outputs": [
    {
     "data": {
      "text/html": [
       "<div>\n",
       "<style scoped>\n",
       "    .dataframe tbody tr th:only-of-type {\n",
       "        vertical-align: middle;\n",
       "    }\n",
       "\n",
       "    .dataframe tbody tr th {\n",
       "        vertical-align: top;\n",
       "    }\n",
       "\n",
       "    .dataframe thead th {\n",
       "        text-align: right;\n",
       "    }\n",
       "</style>\n",
       "<table border=\"1\" class=\"dataframe\">\n",
       "  <thead>\n",
       "    <tr style=\"text-align: right;\">\n",
       "      <th></th>\n",
       "      <th>property_type</th>\n",
       "      <th>room_type</th>\n",
       "      <th>bed_type</th>\n",
       "      <th>amenities</th>\n",
       "      <th>price</th>\n",
       "      <th>security_deposit</th>\n",
       "      <th>cleaning_fee</th>\n",
       "      <th>extra_people</th>\n",
       "      <th>zipcode_clean</th>\n",
       "    </tr>\n",
       "  </thead>\n",
       "  <tbody>\n",
       "    <tr>\n",
       "      <th>0</th>\n",
       "      <td>Loft</td>\n",
       "      <td>Entire home/apt</td>\n",
       "      <td>Real Bed</td>\n",
       "      <td>13</td>\n",
       "      <td>125.0</td>\n",
       "      <td>0.0</td>\n",
       "      <td>40.0</td>\n",
       "      <td>0.0</td>\n",
       "      <td>75010</td>\n",
       "    </tr>\n",
       "    <tr>\n",
       "      <th>1</th>\n",
       "      <td>Apartment</td>\n",
       "      <td>Entire home/apt</td>\n",
       "      <td>Real Bed</td>\n",
       "      <td>16</td>\n",
       "      <td>60.0</td>\n",
       "      <td>150.0</td>\n",
       "      <td>60.0</td>\n",
       "      <td>0.0</td>\n",
       "      <td>75014</td>\n",
       "    </tr>\n",
       "    <tr>\n",
       "      <th>2</th>\n",
       "      <td>Apartment</td>\n",
       "      <td>Entire home/apt</td>\n",
       "      <td>Pull-out Sofa</td>\n",
       "      <td>22</td>\n",
       "      <td>115.0</td>\n",
       "      <td>0.0</td>\n",
       "      <td>36.0</td>\n",
       "      <td>0.0</td>\n",
       "      <td>75004</td>\n",
       "    </tr>\n",
       "    <tr>\n",
       "      <th>3</th>\n",
       "      <td>Apartment</td>\n",
       "      <td>Entire home/apt</td>\n",
       "      <td>Real Bed</td>\n",
       "      <td>30</td>\n",
       "      <td>119.0</td>\n",
       "      <td>200.0</td>\n",
       "      <td>50.0</td>\n",
       "      <td>10.0</td>\n",
       "      <td>75004</td>\n",
       "    </tr>\n",
       "    <tr>\n",
       "      <th>4</th>\n",
       "      <td>Apartment</td>\n",
       "      <td>Entire home/apt</td>\n",
       "      <td>Real Bed</td>\n",
       "      <td>12</td>\n",
       "      <td>130.0</td>\n",
       "      <td>500.0</td>\n",
       "      <td>60.0</td>\n",
       "      <td>20.0</td>\n",
       "      <td>75009</td>\n",
       "    </tr>\n",
       "    <tr>\n",
       "      <th>...</th>\n",
       "      <td>...</td>\n",
       "      <td>...</td>\n",
       "      <td>...</td>\n",
       "      <td>...</td>\n",
       "      <td>...</td>\n",
       "      <td>...</td>\n",
       "      <td>...</td>\n",
       "      <td>...</td>\n",
       "      <td>...</td>\n",
       "    </tr>\n",
       "    <tr>\n",
       "      <th>66895</th>\n",
       "      <td>Apartment</td>\n",
       "      <td>Entire home/apt</td>\n",
       "      <td>Real Bed</td>\n",
       "      <td>15</td>\n",
       "      <td>60.0</td>\n",
       "      <td>NaN</td>\n",
       "      <td>35.0</td>\n",
       "      <td>0.0</td>\n",
       "      <td>75116</td>\n",
       "    </tr>\n",
       "    <tr>\n",
       "      <th>66896</th>\n",
       "      <td>Apartment</td>\n",
       "      <td>Private room</td>\n",
       "      <td>Real Bed</td>\n",
       "      <td>19</td>\n",
       "      <td>40.0</td>\n",
       "      <td>NaN</td>\n",
       "      <td>NaN</td>\n",
       "      <td>0.0</td>\n",
       "      <td>75010</td>\n",
       "    </tr>\n",
       "    <tr>\n",
       "      <th>66897</th>\n",
       "      <td>Apartment</td>\n",
       "      <td>Entire home/apt</td>\n",
       "      <td>Real Bed</td>\n",
       "      <td>11</td>\n",
       "      <td>32.0</td>\n",
       "      <td>NaN</td>\n",
       "      <td>NaN</td>\n",
       "      <td>0.0</td>\n",
       "      <td>75010</td>\n",
       "    </tr>\n",
       "    <tr>\n",
       "      <th>66898</th>\n",
       "      <td>Apartment</td>\n",
       "      <td>Entire home/apt</td>\n",
       "      <td>Real Bed</td>\n",
       "      <td>8</td>\n",
       "      <td>65.0</td>\n",
       "      <td>NaN</td>\n",
       "      <td>NaN</td>\n",
       "      <td>0.0</td>\n",
       "      <td>75012</td>\n",
       "    </tr>\n",
       "    <tr>\n",
       "      <th>66899</th>\n",
       "      <td>Apartment</td>\n",
       "      <td>Private room</td>\n",
       "      <td>Real Bed</td>\n",
       "      <td>7</td>\n",
       "      <td>30.0</td>\n",
       "      <td>0.0</td>\n",
       "      <td>40.0</td>\n",
       "      <td>0.0</td>\n",
       "      <td>75003</td>\n",
       "    </tr>\n",
       "  </tbody>\n",
       "</table>\n",
       "<p>66900 rows × 9 columns</p>\n",
       "</div>"
      ],
      "text/plain": [
       "      property_type        room_type       bed_type  amenities  price  \\\n",
       "0              Loft  Entire home/apt       Real Bed         13  125.0   \n",
       "1         Apartment  Entire home/apt       Real Bed         16   60.0   \n",
       "2         Apartment  Entire home/apt  Pull-out Sofa         22  115.0   \n",
       "3         Apartment  Entire home/apt       Real Bed         30  119.0   \n",
       "4         Apartment  Entire home/apt       Real Bed         12  130.0   \n",
       "...             ...              ...            ...        ...    ...   \n",
       "66895     Apartment  Entire home/apt       Real Bed         15   60.0   \n",
       "66896     Apartment     Private room       Real Bed         19   40.0   \n",
       "66897     Apartment  Entire home/apt       Real Bed         11   32.0   \n",
       "66898     Apartment  Entire home/apt       Real Bed          8   65.0   \n",
       "66899     Apartment     Private room       Real Bed          7   30.0   \n",
       "\n",
       "       security_deposit  cleaning_fee  extra_people zipcode_clean  \n",
       "0                   0.0          40.0           0.0         75010  \n",
       "1                 150.0          60.0           0.0         75014  \n",
       "2                   0.0          36.0           0.0         75004  \n",
       "3                 200.0          50.0          10.0         75004  \n",
       "4                 500.0          60.0          20.0         75009  \n",
       "...                 ...           ...           ...           ...  \n",
       "66895               NaN          35.0           0.0         75116  \n",
       "66896               NaN           NaN           0.0         75010  \n",
       "66897               NaN           NaN           0.0         75010  \n",
       "66898               NaN           NaN           0.0         75012  \n",
       "66899               0.0          40.0           0.0         75003  \n",
       "\n",
       "[66900 rows x 9 columns]"
      ]
     },
     "execution_count": 26,
     "metadata": {},
     "output_type": "execute_result"
    }
   ],
   "source": [
    "df_others"
   ]
  },
  {
   "cell_type": "code",
   "execution_count": 27,
   "metadata": {},
   "outputs": [
    {
     "ename": "KeyError",
     "evalue": "'minimum_nights'",
     "output_type": "error",
     "traceback": [
      "\u001b[0;31m---------------------------------------------------------------------------\u001b[0m",
      "\u001b[0;31mKeyError\u001b[0m                                  Traceback (most recent call last)",
      "\u001b[0;32m~/anaconda3/lib/python3.8/site-packages/pandas/core/indexes/base.py\u001b[0m in \u001b[0;36mget_loc\u001b[0;34m(self, key, method, tolerance)\u001b[0m\n\u001b[1;32m   2888\u001b[0m             \u001b[0;32mtry\u001b[0m\u001b[0;34m:\u001b[0m\u001b[0;34m\u001b[0m\u001b[0;34m\u001b[0m\u001b[0m\n\u001b[0;32m-> 2889\u001b[0;31m                 \u001b[0;32mreturn\u001b[0m \u001b[0mself\u001b[0m\u001b[0;34m.\u001b[0m\u001b[0m_engine\u001b[0m\u001b[0;34m.\u001b[0m\u001b[0mget_loc\u001b[0m\u001b[0;34m(\u001b[0m\u001b[0mcasted_key\u001b[0m\u001b[0;34m)\u001b[0m\u001b[0;34m\u001b[0m\u001b[0;34m\u001b[0m\u001b[0m\n\u001b[0m\u001b[1;32m   2890\u001b[0m             \u001b[0;32mexcept\u001b[0m \u001b[0mKeyError\u001b[0m \u001b[0;32mas\u001b[0m \u001b[0merr\u001b[0m\u001b[0;34m:\u001b[0m\u001b[0;34m\u001b[0m\u001b[0;34m\u001b[0m\u001b[0m\n",
      "\u001b[0;32mpandas/_libs/index.pyx\u001b[0m in \u001b[0;36mpandas._libs.index.IndexEngine.get_loc\u001b[0;34m()\u001b[0m\n",
      "\u001b[0;32mpandas/_libs/index.pyx\u001b[0m in \u001b[0;36mpandas._libs.index.IndexEngine.get_loc\u001b[0;34m()\u001b[0m\n",
      "\u001b[0;32mpandas/_libs/hashtable_class_helper.pxi\u001b[0m in \u001b[0;36mpandas._libs.hashtable.PyObjectHashTable.get_item\u001b[0;34m()\u001b[0m\n",
      "\u001b[0;32mpandas/_libs/hashtable_class_helper.pxi\u001b[0m in \u001b[0;36mpandas._libs.hashtable.PyObjectHashTable.get_item\u001b[0;34m()\u001b[0m\n",
      "\u001b[0;31mKeyError\u001b[0m: 'minimum_nights'",
      "\nThe above exception was the direct cause of the following exception:\n",
      "\u001b[0;31mKeyError\u001b[0m                                  Traceback (most recent call last)",
      "\u001b[0;32m<ipython-input-27-10577dd8e8d7>\u001b[0m in \u001b[0;36m<module>\u001b[0;34m\u001b[0m\n\u001b[0;32m----> 1\u001b[0;31m \u001b[0mdf_numerical\u001b[0m\u001b[0;34m[\u001b[0m\u001b[0;34m'mean_num_nights'\u001b[0m\u001b[0;34m]\u001b[0m \u001b[0;34m=\u001b[0m \u001b[0;34m(\u001b[0m\u001b[0mdf_numerical\u001b[0m\u001b[0;34m[\u001b[0m\u001b[0;34m'minimum_nights'\u001b[0m\u001b[0;34m]\u001b[0m \u001b[0;34m+\u001b[0m \u001b[0mdf_numerical\u001b[0m\u001b[0;34m[\u001b[0m\u001b[0;34m'maximum_nights'\u001b[0m\u001b[0;34m]\u001b[0m\u001b[0;34m)\u001b[0m\u001b[0;34m/\u001b[0m\u001b[0;36m2\u001b[0m\u001b[0;34m\u001b[0m\u001b[0;34m\u001b[0m\u001b[0m\n\u001b[0m",
      "\u001b[0;32m~/anaconda3/lib/python3.8/site-packages/pandas/core/frame.py\u001b[0m in \u001b[0;36m__getitem__\u001b[0;34m(self, key)\u001b[0m\n\u001b[1;32m   2900\u001b[0m             \u001b[0;32mif\u001b[0m \u001b[0mself\u001b[0m\u001b[0;34m.\u001b[0m\u001b[0mcolumns\u001b[0m\u001b[0;34m.\u001b[0m\u001b[0mnlevels\u001b[0m \u001b[0;34m>\u001b[0m \u001b[0;36m1\u001b[0m\u001b[0;34m:\u001b[0m\u001b[0;34m\u001b[0m\u001b[0;34m\u001b[0m\u001b[0m\n\u001b[1;32m   2901\u001b[0m                 \u001b[0;32mreturn\u001b[0m \u001b[0mself\u001b[0m\u001b[0;34m.\u001b[0m\u001b[0m_getitem_multilevel\u001b[0m\u001b[0;34m(\u001b[0m\u001b[0mkey\u001b[0m\u001b[0;34m)\u001b[0m\u001b[0;34m\u001b[0m\u001b[0;34m\u001b[0m\u001b[0m\n\u001b[0;32m-> 2902\u001b[0;31m             \u001b[0mindexer\u001b[0m \u001b[0;34m=\u001b[0m \u001b[0mself\u001b[0m\u001b[0;34m.\u001b[0m\u001b[0mcolumns\u001b[0m\u001b[0;34m.\u001b[0m\u001b[0mget_loc\u001b[0m\u001b[0;34m(\u001b[0m\u001b[0mkey\u001b[0m\u001b[0;34m)\u001b[0m\u001b[0;34m\u001b[0m\u001b[0;34m\u001b[0m\u001b[0m\n\u001b[0m\u001b[1;32m   2903\u001b[0m             \u001b[0;32mif\u001b[0m \u001b[0mis_integer\u001b[0m\u001b[0;34m(\u001b[0m\u001b[0mindexer\u001b[0m\u001b[0;34m)\u001b[0m\u001b[0;34m:\u001b[0m\u001b[0;34m\u001b[0m\u001b[0;34m\u001b[0m\u001b[0m\n\u001b[1;32m   2904\u001b[0m                 \u001b[0mindexer\u001b[0m \u001b[0;34m=\u001b[0m \u001b[0;34m[\u001b[0m\u001b[0mindexer\u001b[0m\u001b[0;34m]\u001b[0m\u001b[0;34m\u001b[0m\u001b[0;34m\u001b[0m\u001b[0m\n",
      "\u001b[0;32m~/anaconda3/lib/python3.8/site-packages/pandas/core/indexes/base.py\u001b[0m in \u001b[0;36mget_loc\u001b[0;34m(self, key, method, tolerance)\u001b[0m\n\u001b[1;32m   2889\u001b[0m                 \u001b[0;32mreturn\u001b[0m \u001b[0mself\u001b[0m\u001b[0;34m.\u001b[0m\u001b[0m_engine\u001b[0m\u001b[0;34m.\u001b[0m\u001b[0mget_loc\u001b[0m\u001b[0;34m(\u001b[0m\u001b[0mcasted_key\u001b[0m\u001b[0;34m)\u001b[0m\u001b[0;34m\u001b[0m\u001b[0;34m\u001b[0m\u001b[0m\n\u001b[1;32m   2890\u001b[0m             \u001b[0;32mexcept\u001b[0m \u001b[0mKeyError\u001b[0m \u001b[0;32mas\u001b[0m \u001b[0merr\u001b[0m\u001b[0;34m:\u001b[0m\u001b[0;34m\u001b[0m\u001b[0;34m\u001b[0m\u001b[0m\n\u001b[0;32m-> 2891\u001b[0;31m                 \u001b[0;32mraise\u001b[0m \u001b[0mKeyError\u001b[0m\u001b[0;34m(\u001b[0m\u001b[0mkey\u001b[0m\u001b[0;34m)\u001b[0m \u001b[0;32mfrom\u001b[0m \u001b[0merr\u001b[0m\u001b[0;34m\u001b[0m\u001b[0;34m\u001b[0m\u001b[0m\n\u001b[0m\u001b[1;32m   2892\u001b[0m \u001b[0;34m\u001b[0m\u001b[0m\n\u001b[1;32m   2893\u001b[0m         \u001b[0;32mif\u001b[0m \u001b[0mtolerance\u001b[0m \u001b[0;32mis\u001b[0m \u001b[0;32mnot\u001b[0m \u001b[0;32mNone\u001b[0m\u001b[0;34m:\u001b[0m\u001b[0;34m\u001b[0m\u001b[0;34m\u001b[0m\u001b[0m\n",
      "\u001b[0;31mKeyError\u001b[0m: 'minimum_nights'"
     ]
    }
   ],
   "source": [
    "df_numerical['mean_num_nights'] = (df_numerical['minimum_nights'] + df_numerical['maximum_nights'])/2"
   ]
  },
  {
   "cell_type": "code",
   "execution_count": 73,
   "metadata": {},
   "outputs": [
    {
     "data": {
      "text/plain": [
       "(66900, 16)"
      ]
     },
     "execution_count": 73,
     "metadata": {},
     "output_type": "execute_result"
    }
   ],
   "source": [
    "df.shape"
   ]
  },
  {
   "cell_type": "code",
   "execution_count": 29,
   "metadata": {},
   "outputs": [],
   "source": [
    "df = pd.concat([df_others,df_numerical], axis=1)"
   ]
  },
  {
   "cell_type": "code",
   "execution_count": 30,
   "metadata": {},
   "outputs": [
    {
     "data": {
      "text/plain": [
       "(66900, 16)"
      ]
     },
     "execution_count": 30,
     "metadata": {},
     "output_type": "execute_result"
    }
   ],
   "source": [
    "df.shape"
   ]
  },
  {
   "cell_type": "code",
   "execution_count": 119,
   "metadata": {},
   "outputs": [],
   "source": [
    "price_log = df['price'].apply(lambda x: np.log1p(x))"
   ]
  },
  {
   "cell_type": "code",
   "execution_count": 121,
   "metadata": {},
   "outputs": [
    {
     "data": {
      "text/plain": [
       "0        125.0\n",
       "1         60.0\n",
       "2        115.0\n",
       "3        119.0\n",
       "4        130.0\n",
       "         ...  \n",
       "66895     60.0\n",
       "66896     40.0\n",
       "66897     32.0\n",
       "66898     65.0\n",
       "66899     30.0\n",
       "Name: price, Length: 66900, dtype: float64"
      ]
     },
     "execution_count": 121,
     "metadata": {},
     "output_type": "execute_result"
    }
   ],
   "source": [
    "np.expm1(price_log)"
   ]
  },
  {
   "cell_type": "code",
   "execution_count": 120,
   "metadata": {},
   "outputs": [
    {
     "data": {
      "image/png": "[encoded data removed]",
      "text/plain": [
       "<Figure size 432x288 with 1 Axes>"
      ]
     },
     "metadata": {
      "needs_background": "light"
     },
     "output_type": "display_data"
    }
   ],
   "source": [
    "fig, ax = plt.subplots()\n",
    "\n",
    "sns.distplot(price_log, ax=ax)\n",
    "plt.show()"
   ]
  },
  {
   "cell_type": "code",
   "execution_count": 33,
   "metadata": {},
   "outputs": [],
   "source": [
    "df.columns\n",
    "numerical_columns = ['amenities','security_deposit', 'cleaning_fee', 'extra_people','accommodates', 'bathrooms', 'bedrooms', 'beds', 'guests_included','number_of_reviews', 'mean_num_nights']\n",
    "categorical_columns = ['property_type', 'room_type', 'bed_type','zipcode_clean']"
   ]
  },
  {
   "cell_type": "code",
   "execution_count": 34,
   "metadata": {},
   "outputs": [],
   "source": [
    "y = df['price']\n",
    "X = df.drop(['price'], axis=1)"
   ]
  },
  {
   "cell_type": "code",
   "execution_count": 122,
   "metadata": {},
   "outputs": [],
   "source": [
    "X_train, X_test, y_train, y_test = train_test_split(X,price_log, shuffle=True, random_state= 42)"
   ]
  },
  {
   "cell_type": "code",
   "execution_count": 123,
   "metadata": {},
   "outputs": [],
   "source": [
    "numerical_transformer = Pipeline(steps=[('imputer',SimpleImputer(strategy='median')),('scaler',RobustScaler())])\n",
    "\n",
    "categorical_transformer = Pipeline(steps=[('imputer', SimpleImputer(strategy='most_frequent')),('encoder',TargetEncoder())])\n",
    "\n",
    "\n",
    "preprocessor = ColumnTransformer(\n",
    "    transformers=[\n",
    "        ('num', numerical_transformer, numerical_columns),\n",
    "        ('cat', categorical_transformer, categorical_columns)])\n",
    "\n",
    "#preprocessor_pca = Pipeline(steps=[('preprocess',preprocessor),('pca',T(n_components=0.90))])\n"
   ]
  },
  {
   "cell_type": "code",
   "execution_count": 124,
   "metadata": {},
   "outputs": [
    {
     "name": "stderr",
     "output_type": "stream",
     "text": [
      "/home/natsunami/anaconda3/lib/python3.8/site-packages/category_encoders/utils.py:21: FutureWarning: is_categorical is deprecated and will be removed in a future version.  Use is_categorical_dtype instead\n",
      "  elif pd.api.types.is_categorical(cols):\n"
     ]
    }
   ],
   "source": [
    "X_train_processed = preprocessor.fit_transform(X_train,y_train)\n",
    "X_test_processed = preprocessor.transform(X_test)"
   ]
  },
  {
   "cell_type": "code",
   "execution_count": 89,
   "metadata": {},
   "outputs": [
    {
     "data": {
      "text/plain": [
       "(50175, 15)"
      ]
     },
     "execution_count": 89,
     "metadata": {},
     "output_type": "execute_result"
    }
   ],
   "source": [
    "X_train_processed.shape"
   ]
  },
  {
   "cell_type": "code",
   "execution_count": 125,
   "metadata": {},
   "outputs": [
    {
     "data": {
      "text/plain": [
       "{'fit_time': array([0.0327909 , 0.03694129, 0.04035306, 0.03677917, 0.03645968,\n",
       "        0.02876472, 0.04592466, 0.03908801, 0.03917599, 0.0307622 ]),\n",
       " 'score_time': array([0.00156808, 0.00167799, 0.00188351, 0.0016129 , 0.00159049,\n",
       "        0.00124192, 0.00223279, 0.00129747, 0.00159335, 0.00133181]),\n",
       " 'test_neg_root_mean_squared_error': array([-0.53057338, -6.42348643, -0.50951897, -0.52288629, -0.55225598,\n",
       "        -0.52329729, -0.51548293, -0.53920349, -0.48861425, -0.55910291]),\n",
       " 'test_r2': array([  0.38309339, -91.36090551,   0.39510556,   0.40355   ,\n",
       "          0.35944349,   0.39425945,   0.40358984,   0.35796981,\n",
       "          0.4295519 ,   0.31473527])}"
      ]
     },
     "execution_count": 125,
     "metadata": {},
     "output_type": "execute_result"
    }
   ],
   "source": [
    "#Baseline model with linear regression:\n",
    "lr = LinearRegression()\n",
    "\n",
    "lr.fit(X_train_processed,y_train)\n",
    "y_pred_train_lr = lr.predict(X_train_processed)\n",
    "rmse_train_lr = mean_squared_error(y_train, y_pred_train_lr, squared=False)\n",
    "r2_train_lr = r2_score(y_train, y_pred_train_lr)\n",
    "\n",
    "#cv_rfr_lr_rmse = -cross_val_score(lr,X_train_processed, y_train, scoring=['neg_root_mean_squared_error','r2'], cv=10, n_jobs=-1).mean()\n",
    "#cv_rfr_lr_r2 = -cross_val_score(lr,X_train_processed, y_train, scoring='r2', cv=10, n_jobs=-1).mean()\n",
    "cross_validate(lr,X_train_processed, y_train, scoring=['neg_root_mean_squared_error','r2'], cv=10, n_jobs=-1)"
   ]
  },
  {
   "cell_type": "code",
   "execution_count": 126,
   "metadata": {},
   "outputs": [],
   "source": [
    "#Baseline model with random forest regression:\n",
    "rfr  = RandomForestRegressor()\n",
    "\n",
    "rfr.fit(X_train_processed,y_train)\n",
    "y_pred_train = rfr.predict(X_train_processed)\n",
    "rmse_train_rfr = mean_squared_error(y_train, y_pred_train, squared=False)\n",
    "r2_train_rfr = r2_score(y_train, y_pred_train)\n",
    "\n",
    "\n",
    "cv_rfr  = cross_validate(rfr,X_train_processed, y_train, scoring=['neg_root_mean_squared_error','r2'], cv=5, n_jobs=-1)\n"
   ]
  },
  {
   "cell_type": "code",
   "execution_count": 127,
   "metadata": {},
   "outputs": [
    {
     "data": {
      "text/plain": [
       "{'fit_time': array([23.87302279, 23.94689202, 18.14263058, 18.21764827, 18.55319452]),\n",
       " 'score_time': array([0.30594492, 0.30824614, 0.40203309, 0.39468288, 0.39539123]),\n",
       " 'test_neg_root_mean_squared_error': array([-0.41361894, -0.40957188, -0.42357316, -0.41465441, -0.41142141]),\n",
       " 'test_r2': array([0.62109889, 0.62208635, 0.61355459, 0.61721178, 0.61298204])}"
      ]
     },
     "execution_count": 127,
     "metadata": {},
     "output_type": "execute_result"
    }
   ],
   "source": [
    "cv_rfr"
   ]
  },
  {
   "cell_type": "code",
   "execution_count": 128,
   "metadata": {},
   "outputs": [],
   "source": [
    "params = {'n_estimators':range(100,1000,50),\n",
    "         'max_depth':range(1,30),\n",
    "         'min_samples_leaf':range(1,20),\n",
    "         'max_features':['auto','sqrt','log2']}\n",
    "\n",
    "rand_search_rfr = RandomizedSearchCV(rfr,params,n_iter=20, cv=5, n_jobs=-1)\n",
    "rand_search_rfr_results = rand_search_rfr.fit(X_train_processed, y_train)"
   ]
  },
  {
   "cell_type": "code",
   "execution_count": 129,
   "metadata": {},
   "outputs": [
    {
     "data": {
      "text/html": [
       "<div>\n",
       "<style scoped>\n",
       "    .dataframe tbody tr th:only-of-type {\n",
       "        vertical-align: middle;\n",
       "    }\n",
       "\n",
       "    .dataframe tbody tr th {\n",
       "        vertical-align: top;\n",
       "    }\n",
       "\n",
       "    .dataframe thead th {\n",
       "        text-align: right;\n",
       "    }\n",
       "</style>\n",
       "<table border=\"1\" class=\"dataframe\">\n",
       "  <thead>\n",
       "    <tr style=\"text-align: right;\">\n",
       "      <th></th>\n",
       "      <th>mean_fit_time</th>\n",
       "      <th>std_fit_time</th>\n",
       "      <th>mean_score_time</th>\n",
       "      <th>std_score_time</th>\n",
       "      <th>param_n_estimators</th>\n",
       "      <th>param_min_samples_leaf</th>\n",
       "      <th>param_max_features</th>\n",
       "      <th>param_max_depth</th>\n",
       "      <th>params</th>\n",
       "      <th>split0_test_score</th>\n",
       "      <th>split1_test_score</th>\n",
       "      <th>split2_test_score</th>\n",
       "      <th>split3_test_score</th>\n",
       "      <th>split4_test_score</th>\n",
       "      <th>mean_test_score</th>\n",
       "      <th>std_test_score</th>\n",
       "      <th>rank_test_score</th>\n",
       "    </tr>\n",
       "  </thead>\n",
       "  <tbody>\n",
       "    <tr>\n",
       "      <th>0</th>\n",
       "      <td>65.764208</td>\n",
       "      <td>0.580043</td>\n",
       "      <td>2.806925</td>\n",
       "      <td>0.039420</td>\n",
       "      <td>950</td>\n",
       "      <td>4</td>\n",
       "      <td>log2</td>\n",
       "      <td>23</td>\n",
       "      <td>{'n_estimators': 950, 'min_samples_leaf': 4, '...</td>\n",
       "      <td>0.613076</td>\n",
       "      <td>0.611071</td>\n",
       "      <td>0.603488</td>\n",
       "      <td>0.605350</td>\n",
       "      <td>0.618024</td>\n",
       "      <td>0.610202</td>\n",
       "      <td>0.005269</td>\n",
       "      <td>4</td>\n",
       "    </tr>\n",
       "    <tr>\n",
       "      <th>1</th>\n",
       "      <td>22.571289</td>\n",
       "      <td>2.343089</td>\n",
       "      <td>0.653169</td>\n",
       "      <td>0.094176</td>\n",
       "      <td>700</td>\n",
       "      <td>2</td>\n",
       "      <td>log2</td>\n",
       "      <td>7</td>\n",
       "      <td>{'n_estimators': 700, 'min_samples_leaf': 2, '...</td>\n",
       "      <td>0.516318</td>\n",
       "      <td>0.515896</td>\n",
       "      <td>0.511701</td>\n",
       "      <td>0.509009</td>\n",
       "      <td>0.528932</td>\n",
       "      <td>0.516371</td>\n",
       "      <td>0.006841</td>\n",
       "      <td>17</td>\n",
       "    </tr>\n",
       "    <tr>\n",
       "      <th>2</th>\n",
       "      <td>23.760550</td>\n",
       "      <td>0.597599</td>\n",
       "      <td>0.865942</td>\n",
       "      <td>0.019197</td>\n",
       "      <td>400</td>\n",
       "      <td>5</td>\n",
       "      <td>log2</td>\n",
       "      <td>14</td>\n",
       "      <td>{'n_estimators': 400, 'min_samples_leaf': 5, '...</td>\n",
       "      <td>0.596969</td>\n",
       "      <td>0.593908</td>\n",
       "      <td>0.588250</td>\n",
       "      <td>0.588501</td>\n",
       "      <td>0.601633</td>\n",
       "      <td>0.593852</td>\n",
       "      <td>0.005104</td>\n",
       "      <td>6</td>\n",
       "    </tr>\n",
       "    <tr>\n",
       "      <th>3</th>\n",
       "      <td>219.798049</td>\n",
       "      <td>0.701921</td>\n",
       "      <td>2.601931</td>\n",
       "      <td>0.062763</td>\n",
       "      <td>900</td>\n",
       "      <td>4</td>\n",
       "      <td>auto</td>\n",
       "      <td>18</td>\n",
       "      <td>{'n_estimators': 900, 'min_samples_leaf': 4, '...</td>\n",
       "      <td>0.625464</td>\n",
       "      <td>0.621433</td>\n",
       "      <td>0.618928</td>\n",
       "      <td>0.615781</td>\n",
       "      <td>0.617552</td>\n",
       "      <td>0.619832</td>\n",
       "      <td>0.003368</td>\n",
       "      <td>2</td>\n",
       "    </tr>\n",
       "    <tr>\n",
       "      <th>4</th>\n",
       "      <td>153.114083</td>\n",
       "      <td>0.854855</td>\n",
       "      <td>1.498576</td>\n",
       "      <td>0.021368</td>\n",
       "      <td>900</td>\n",
       "      <td>12</td>\n",
       "      <td>auto</td>\n",
       "      <td>11</td>\n",
       "      <td>{'n_estimators': 900, 'min_samples_leaf': 12, ...</td>\n",
       "      <td>0.589555</td>\n",
       "      <td>0.585663</td>\n",
       "      <td>0.583438</td>\n",
       "      <td>0.579800</td>\n",
       "      <td>0.587318</td>\n",
       "      <td>0.585155</td>\n",
       "      <td>0.003344</td>\n",
       "      <td>8</td>\n",
       "    </tr>\n",
       "    <tr>\n",
       "      <th>5</th>\n",
       "      <td>5.444565</td>\n",
       "      <td>0.037854</td>\n",
       "      <td>0.217461</td>\n",
       "      <td>0.001322</td>\n",
       "      <td>100</td>\n",
       "      <td>18</td>\n",
       "      <td>log2</td>\n",
       "      <td>22</td>\n",
       "      <td>{'n_estimators': 100, 'min_samples_leaf': 18, ...</td>\n",
       "      <td>0.571084</td>\n",
       "      <td>0.570768</td>\n",
       "      <td>0.562601</td>\n",
       "      <td>0.562805</td>\n",
       "      <td>0.581046</td>\n",
       "      <td>0.569661</td>\n",
       "      <td>0.006778</td>\n",
       "      <td>14</td>\n",
       "    </tr>\n",
       "    <tr>\n",
       "      <th>6</th>\n",
       "      <td>19.066264</td>\n",
       "      <td>0.257433</td>\n",
       "      <td>0.718176</td>\n",
       "      <td>0.017799</td>\n",
       "      <td>350</td>\n",
       "      <td>9</td>\n",
       "      <td>log2</td>\n",
       "      <td>14</td>\n",
       "      <td>{'n_estimators': 350, 'min_samples_leaf': 9, '...</td>\n",
       "      <td>0.583923</td>\n",
       "      <td>0.582572</td>\n",
       "      <td>0.575241</td>\n",
       "      <td>0.574445</td>\n",
       "      <td>0.591978</td>\n",
       "      <td>0.581632</td>\n",
       "      <td>0.006413</td>\n",
       "      <td>10</td>\n",
       "    </tr>\n",
       "    <tr>\n",
       "      <th>7</th>\n",
       "      <td>142.037833</td>\n",
       "      <td>1.068754</td>\n",
       "      <td>1.471398</td>\n",
       "      <td>0.032244</td>\n",
       "      <td>700</td>\n",
       "      <td>3</td>\n",
       "      <td>auto</td>\n",
       "      <td>13</td>\n",
       "      <td>{'n_estimators': 700, 'min_samples_leaf': 3, '...</td>\n",
       "      <td>0.615190</td>\n",
       "      <td>0.613795</td>\n",
       "      <td>0.610952</td>\n",
       "      <td>0.607899</td>\n",
       "      <td>0.610959</td>\n",
       "      <td>0.611759</td>\n",
       "      <td>0.002534</td>\n",
       "      <td>3</td>\n",
       "    </tr>\n",
       "    <tr>\n",
       "      <th>8</th>\n",
       "      <td>94.559568</td>\n",
       "      <td>1.698492</td>\n",
       "      <td>1.048523</td>\n",
       "      <td>0.012281</td>\n",
       "      <td>450</td>\n",
       "      <td>19</td>\n",
       "      <td>auto</td>\n",
       "      <td>25</td>\n",
       "      <td>{'n_estimators': 450, 'min_samples_leaf': 19, ...</td>\n",
       "      <td>0.598539</td>\n",
       "      <td>0.592209</td>\n",
       "      <td>0.587667</td>\n",
       "      <td>0.585353</td>\n",
       "      <td>0.593521</td>\n",
       "      <td>0.591458</td>\n",
       "      <td>0.004617</td>\n",
       "      <td>7</td>\n",
       "    </tr>\n",
       "    <tr>\n",
       "      <th>9</th>\n",
       "      <td>115.958256</td>\n",
       "      <td>0.849707</td>\n",
       "      <td>0.950861</td>\n",
       "      <td>0.024409</td>\n",
       "      <td>900</td>\n",
       "      <td>6</td>\n",
       "      <td>auto</td>\n",
       "      <td>7</td>\n",
       "      <td>{'n_estimators': 900, 'min_samples_leaf': 6, '...</td>\n",
       "      <td>0.545927</td>\n",
       "      <td>0.539257</td>\n",
       "      <td>0.540951</td>\n",
       "      <td>0.537474</td>\n",
       "      <td>0.538177</td>\n",
       "      <td>0.540357</td>\n",
       "      <td>0.003022</td>\n",
       "      <td>16</td>\n",
       "    </tr>\n",
       "    <tr>\n",
       "      <th>10</th>\n",
       "      <td>2.462768</td>\n",
       "      <td>0.017107</td>\n",
       "      <td>0.068211</td>\n",
       "      <td>0.003436</td>\n",
       "      <td>100</td>\n",
       "      <td>3</td>\n",
       "      <td>log2</td>\n",
       "      <td>4</td>\n",
       "      <td>{'n_estimators': 100, 'min_samples_leaf': 3, '...</td>\n",
       "      <td>0.426693</td>\n",
       "      <td>0.434307</td>\n",
       "      <td>0.422983</td>\n",
       "      <td>0.421021</td>\n",
       "      <td>0.437759</td>\n",
       "      <td>0.428553</td>\n",
       "      <td>0.006467</td>\n",
       "      <td>19</td>\n",
       "    </tr>\n",
       "    <tr>\n",
       "      <th>11</th>\n",
       "      <td>31.168287</td>\n",
       "      <td>0.324327</td>\n",
       "      <td>1.518974</td>\n",
       "      <td>0.021982</td>\n",
       "      <td>350</td>\n",
       "      <td>1</td>\n",
       "      <td>sqrt</td>\n",
       "      <td>21</td>\n",
       "      <td>{'n_estimators': 350, 'min_samples_leaf': 1, '...</td>\n",
       "      <td>0.633205</td>\n",
       "      <td>0.634056</td>\n",
       "      <td>0.628353</td>\n",
       "      <td>0.634308</td>\n",
       "      <td>0.635344</td>\n",
       "      <td>0.633053</td>\n",
       "      <td>0.002447</td>\n",
       "      <td>1</td>\n",
       "    </tr>\n",
       "    <tr>\n",
       "      <th>12</th>\n",
       "      <td>11.036799</td>\n",
       "      <td>0.175883</td>\n",
       "      <td>0.294568</td>\n",
       "      <td>0.004108</td>\n",
       "      <td>450</td>\n",
       "      <td>5</td>\n",
       "      <td>log2</td>\n",
       "      <td>4</td>\n",
       "      <td>{'n_estimators': 450, 'min_samples_leaf': 5, '...</td>\n",
       "      <td>0.426709</td>\n",
       "      <td>0.431094</td>\n",
       "      <td>0.424391</td>\n",
       "      <td>0.423286</td>\n",
       "      <td>0.440370</td>\n",
       "      <td>0.429170</td>\n",
       "      <td>0.006208</td>\n",
       "      <td>18</td>\n",
       "    </tr>\n",
       "    <tr>\n",
       "      <th>13</th>\n",
       "      <td>2.508232</td>\n",
       "      <td>0.034694</td>\n",
       "      <td>0.067638</td>\n",
       "      <td>0.003201</td>\n",
       "      <td>100</td>\n",
       "      <td>18</td>\n",
       "      <td>sqrt</td>\n",
       "      <td>4</td>\n",
       "      <td>{'n_estimators': 100, 'min_samples_leaf': 18, ...</td>\n",
       "      <td>0.420191</td>\n",
       "      <td>0.430599</td>\n",
       "      <td>0.428084</td>\n",
       "      <td>0.421581</td>\n",
       "      <td>0.436328</td>\n",
       "      <td>0.427357</td>\n",
       "      <td>0.005937</td>\n",
       "      <td>20</td>\n",
       "    </tr>\n",
       "    <tr>\n",
       "      <th>14</th>\n",
       "      <td>32.913854</td>\n",
       "      <td>0.299700</td>\n",
       "      <td>1.276769</td>\n",
       "      <td>0.013111</td>\n",
       "      <td>550</td>\n",
       "      <td>13</td>\n",
       "      <td>log2</td>\n",
       "      <td>28</td>\n",
       "      <td>{'n_estimators': 550, 'min_samples_leaf': 13, ...</td>\n",
       "      <td>0.582846</td>\n",
       "      <td>0.582903</td>\n",
       "      <td>0.572569</td>\n",
       "      <td>0.572679</td>\n",
       "      <td>0.590896</td>\n",
       "      <td>0.580379</td>\n",
       "      <td>0.006976</td>\n",
       "      <td>11</td>\n",
       "    </tr>\n",
       "    <tr>\n",
       "      <th>15</th>\n",
       "      <td>26.540349</td>\n",
       "      <td>0.232568</td>\n",
       "      <td>1.015315</td>\n",
       "      <td>0.012325</td>\n",
       "      <td>450</td>\n",
       "      <td>11</td>\n",
       "      <td>log2</td>\n",
       "      <td>17</td>\n",
       "      <td>{'n_estimators': 450, 'min_samples_leaf': 11, ...</td>\n",
       "      <td>0.584759</td>\n",
       "      <td>0.584423</td>\n",
       "      <td>0.575485</td>\n",
       "      <td>0.575368</td>\n",
       "      <td>0.592987</td>\n",
       "      <td>0.582604</td>\n",
       "      <td>0.006615</td>\n",
       "      <td>9</td>\n",
       "    </tr>\n",
       "    <tr>\n",
       "      <th>16</th>\n",
       "      <td>25.656095</td>\n",
       "      <td>0.196565</td>\n",
       "      <td>0.903249</td>\n",
       "      <td>0.021828</td>\n",
       "      <td>500</td>\n",
       "      <td>17</td>\n",
       "      <td>log2</td>\n",
       "      <td>13</td>\n",
       "      <td>{'n_estimators': 500, 'min_samples_leaf': 17, ...</td>\n",
       "      <td>0.565890</td>\n",
       "      <td>0.565514</td>\n",
       "      <td>0.557737</td>\n",
       "      <td>0.556416</td>\n",
       "      <td>0.575711</td>\n",
       "      <td>0.564254</td>\n",
       "      <td>0.006920</td>\n",
       "      <td>15</td>\n",
       "    </tr>\n",
       "    <tr>\n",
       "      <th>17</th>\n",
       "      <td>52.037587</td>\n",
       "      <td>0.342239</td>\n",
       "      <td>1.932947</td>\n",
       "      <td>0.056351</td>\n",
       "      <td>900</td>\n",
       "      <td>16</td>\n",
       "      <td>log2</td>\n",
       "      <td>21</td>\n",
       "      <td>{'n_estimators': 900, 'min_samples_leaf': 16, ...</td>\n",
       "      <td>0.575014</td>\n",
       "      <td>0.575435</td>\n",
       "      <td>0.565450</td>\n",
       "      <td>0.565910</td>\n",
       "      <td>0.585112</td>\n",
       "      <td>0.573384</td>\n",
       "      <td>0.007256</td>\n",
       "      <td>13</td>\n",
       "    </tr>\n",
       "    <tr>\n",
       "      <th>18</th>\n",
       "      <td>24.875118</td>\n",
       "      <td>0.238388</td>\n",
       "      <td>0.233868</td>\n",
       "      <td>0.003953</td>\n",
       "      <td>150</td>\n",
       "      <td>10</td>\n",
       "      <td>auto</td>\n",
       "      <td>10</td>\n",
       "      <td>{'n_estimators': 150, 'min_samples_leaf': 10, ...</td>\n",
       "      <td>0.582776</td>\n",
       "      <td>0.579347</td>\n",
       "      <td>0.578590</td>\n",
       "      <td>0.576097</td>\n",
       "      <td>0.581826</td>\n",
       "      <td>0.579727</td>\n",
       "      <td>0.002380</td>\n",
       "      <td>12</td>\n",
       "    </tr>\n",
       "    <tr>\n",
       "      <th>19</th>\n",
       "      <td>98.476218</td>\n",
       "      <td>12.779044</td>\n",
       "      <td>1.093512</td>\n",
       "      <td>0.270374</td>\n",
       "      <td>650</td>\n",
       "      <td>11</td>\n",
       "      <td>auto</td>\n",
       "      <td>22</td>\n",
       "      <td>{'n_estimators': 650, 'min_samples_leaf': 11, ...</td>\n",
       "      <td>0.608653</td>\n",
       "      <td>0.605609</td>\n",
       "      <td>0.600303</td>\n",
       "      <td>0.596860</td>\n",
       "      <td>0.604382</td>\n",
       "      <td>0.603162</td>\n",
       "      <td>0.004136</td>\n",
       "      <td>5</td>\n",
       "    </tr>\n",
       "  </tbody>\n",
       "</table>\n",
       "</div>"
      ],
      "text/plain": [
       "    mean_fit_time  std_fit_time  mean_score_time  std_score_time  \\\n",
       "0       65.764208      0.580043         2.806925        0.039420   \n",
       "1       22.571289      2.343089         0.653169        0.094176   \n",
       "2       23.760550      0.597599         0.865942        0.019197   \n",
       "3      219.798049      0.701921         2.601931        0.062763   \n",
       "4      153.114083      0.854855         1.498576        0.021368   \n",
       "5        5.444565      0.037854         0.217461        0.001322   \n",
       "6       19.066264      0.257433         0.718176        0.017799   \n",
       "7      142.037833      1.068754         1.471398        0.032244   \n",
       "8       94.559568      1.698492         1.048523        0.012281   \n",
       "9      115.958256      0.849707         0.950861        0.024409   \n",
       "10       2.462768      0.017107         0.068211        0.003436   \n",
       "11      31.168287      0.324327         1.518974        0.021982   \n",
       "12      11.036799      0.175883         0.294568        0.004108   \n",
       "13       2.508232      0.034694         0.067638        0.003201   \n",
       "14      32.913854      0.299700         1.276769        0.013111   \n",
       "15      26.540349      0.232568         1.015315        0.012325   \n",
       "16      25.656095      0.196565         0.903249        0.021828   \n",
       "17      52.037587      0.342239         1.932947        0.056351   \n",
       "18      24.875118      0.238388         0.233868        0.003953   \n",
       "19      98.476218     12.779044         1.093512        0.270374   \n",
       "\n",
       "   param_n_estimators param_min_samples_leaf param_max_features  \\\n",
       "0                 950                      4               log2   \n",
       "1                 700                      2               log2   \n",
       "2                 400                      5               log2   \n",
       "3                 900                      4               auto   \n",
       "4                 900                     12               auto   \n",
       "5                 100                     18               log2   \n",
       "6                 350                      9               log2   \n",
       "7                 700                      3               auto   \n",
       "8                 450                     19               auto   \n",
       "9                 900                      6               auto   \n",
       "10                100                      3               log2   \n",
       "11                350                      1               sqrt   \n",
       "12                450                      5               log2   \n",
       "13                100                     18               sqrt   \n",
       "14                550                     13               log2   \n",
       "15                450                     11               log2   \n",
       "16                500                     17               log2   \n",
       "17                900                     16               log2   \n",
       "18                150                     10               auto   \n",
       "19                650                     11               auto   \n",
       "\n",
       "   param_max_depth                                             params  \\\n",
       "0               23  {'n_estimators': 950, 'min_samples_leaf': 4, '...   \n",
       "1                7  {'n_estimators': 700, 'min_samples_leaf': 2, '...   \n",
       "2               14  {'n_estimators': 400, 'min_samples_leaf': 5, '...   \n",
       "3               18  {'n_estimators': 900, 'min_samples_leaf': 4, '...   \n",
       "4               11  {'n_estimators': 900, 'min_samples_leaf': 12, ...   \n",
       "5               22  {'n_estimators': 100, 'min_samples_leaf': 18, ...   \n",
       "6               14  {'n_estimators': 350, 'min_samples_leaf': 9, '...   \n",
       "7               13  {'n_estimators': 700, 'min_samples_leaf': 3, '...   \n",
       "8               25  {'n_estimators': 450, 'min_samples_leaf': 19, ...   \n",
       "9                7  {'n_estimators': 900, 'min_samples_leaf': 6, '...   \n",
       "10               4  {'n_estimators': 100, 'min_samples_leaf': 3, '...   \n",
       "11              21  {'n_estimators': 350, 'min_samples_leaf': 1, '...   \n",
       "12               4  {'n_estimators': 450, 'min_samples_leaf': 5, '...   \n",
       "13               4  {'n_estimators': 100, 'min_samples_leaf': 18, ...   \n",
       "14              28  {'n_estimators': 550, 'min_samples_leaf': 13, ...   \n",
       "15              17  {'n_estimators': 450, 'min_samples_leaf': 11, ...   \n",
       "16              13  {'n_estimators': 500, 'min_samples_leaf': 17, ...   \n",
       "17              21  {'n_estimators': 900, 'min_samples_leaf': 16, ...   \n",
       "18              10  {'n_estimators': 150, 'min_samples_leaf': 10, ...   \n",
       "19              22  {'n_estimators': 650, 'min_samples_leaf': 11, ...   \n",
       "\n",
       "    split0_test_score  split1_test_score  split2_test_score  \\\n",
       "0            0.613076           0.611071           0.603488   \n",
       "1            0.516318           0.515896           0.511701   \n",
       "2            0.596969           0.593908           0.588250   \n",
       "3            0.625464           0.621433           0.618928   \n",
       "4            0.589555           0.585663           0.583438   \n",
       "5            0.571084           0.570768           0.562601   \n",
       "6            0.583923           0.582572           0.575241   \n",
       "7            0.615190           0.613795           0.610952   \n",
       "8            0.598539           0.592209           0.587667   \n",
       "9            0.545927           0.539257           0.540951   \n",
       "10           0.426693           0.434307           0.422983   \n",
       "11           0.633205           0.634056           0.628353   \n",
       "12           0.426709           0.431094           0.424391   \n",
       "13           0.420191           0.430599           0.428084   \n",
       "14           0.582846           0.582903           0.572569   \n",
       "15           0.584759           0.584423           0.575485   \n",
       "16           0.565890           0.565514           0.557737   \n",
       "17           0.575014           0.575435           0.565450   \n",
       "18           0.582776           0.579347           0.578590   \n",
       "19           0.608653           0.605609           0.600303   \n",
       "\n",
       "    split3_test_score  split4_test_score  mean_test_score  std_test_score  \\\n",
       "0            0.605350           0.618024         0.610202        0.005269   \n",
       "1            0.509009           0.528932         0.516371        0.006841   \n",
       "2            0.588501           0.601633         0.593852        0.005104   \n",
       "3            0.615781           0.617552         0.619832        0.003368   \n",
       "4            0.579800           0.587318         0.585155        0.003344   \n",
       "5            0.562805           0.581046         0.569661        0.006778   \n",
       "6            0.574445           0.591978         0.581632        0.006413   \n",
       "7            0.607899           0.610959         0.611759        0.002534   \n",
       "8            0.585353           0.593521         0.591458        0.004617   \n",
       "9            0.537474           0.538177         0.540357        0.003022   \n",
       "10           0.421021           0.437759         0.428553        0.006467   \n",
       "11           0.634308           0.635344         0.633053        0.002447   \n",
       "12           0.423286           0.440370         0.429170        0.006208   \n",
       "13           0.421581           0.436328         0.427357        0.005937   \n",
       "14           0.572679           0.590896         0.580379        0.006976   \n",
       "15           0.575368           0.592987         0.582604        0.006615   \n",
       "16           0.556416           0.575711         0.564254        0.006920   \n",
       "17           0.565910           0.585112         0.573384        0.007256   \n",
       "18           0.576097           0.581826         0.579727        0.002380   \n",
       "19           0.596860           0.604382         0.603162        0.004136   \n",
       "\n",
       "    rank_test_score  \n",
       "0                 4  \n",
       "1                17  \n",
       "2                 6  \n",
       "3                 2  \n",
       "4                 8  \n",
       "5                14  \n",
       "6                10  \n",
       "7                 3  \n",
       "8                 7  \n",
       "9                16  \n",
       "10               19  \n",
       "11                1  \n",
       "12               18  \n",
       "13               20  \n",
       "14               11  \n",
       "15                9  \n",
       "16               15  \n",
       "17               13  \n",
       "18               12  \n",
       "19                5  "
      ]
     },
     "execution_count": 129,
     "metadata": {},
     "output_type": "execute_result"
    }
   ],
   "source": [
    "pd.DataFrame(rand_search_rfr_results.cv_results_, columns=rand_search_rfr_results.cv_results_.keys()\n",
    "            )"
   ]
  },
  {
   "cell_type": "code",
   "execution_count": 130,
   "metadata": {},
   "outputs": [
    {
     "data": {
      "text/plain": [
       "0.6330533664069835"
      ]
     },
     "execution_count": 130,
     "metadata": {},
     "output_type": "execute_result"
    }
   ],
   "source": [
    "rand_search_rfr_results.best_score_"
   ]
  },
  {
   "cell_type": "code",
   "execution_count": 131,
   "metadata": {},
   "outputs": [],
   "source": [
    "xboost = xgb.XGBRegressor()\n",
    "\n",
    "xgb_cross_val = cross_validate(xboost, X_train_processed, y_train, scoring=['neg_root_mean_squared_error','r2'], cv=10,n_jobs=-1)"
   ]
  },
  {
   "cell_type": "code",
   "execution_count": 132,
   "metadata": {},
   "outputs": [
    {
     "data": {
      "text/plain": [
       "0.6522801610924582"
      ]
     },
     "execution_count": 132,
     "metadata": {},
     "output_type": "execute_result"
    }
   ],
   "source": [
    "xgb_cross_val['test_r2'].mean()"
   ]
  },
  {
   "cell_type": "code",
   "execution_count": 133,
   "metadata": {},
   "outputs": [
    {
     "name": "stderr",
     "output_type": "stream",
     "text": [
      "/home/natsunami/anaconda3/lib/python3.8/site-packages/joblib/externals/loky/process_executor.py:688: UserWarning: A worker stopped while some jobs were given to the executor. This can be caused by a too short worker timeout or by a memory leak.\n",
      "  warnings.warn(\n"
     ]
    }
   ],
   "source": [
    "params_xgb = {'n_estimators':range(100,1000,25),\n",
    "         'max_depth':range(1,30),\n",
    "         'min_samples_leaf':range(1,20),\n",
    "         'learning_rate':np.linspace(0.001,0.3,num=50),\n",
    "         'booster':['gbtree', 'gbdart'],\n",
    "         'reg_alpha':np.linspace(0.01,0.5,num=50)}\n",
    "\n",
    "rand_search_xgb = RandomizedSearchCV(xboost,params_xgb,n_iter=30, cv=5, n_jobs=-1)\n",
    "rand_search_xgb_results = rand_search_xgb.fit(X_train_processed, y_train)"
   ]
  },
  {
   "cell_type": "code",
   "execution_count": 135,
   "metadata": {},
   "outputs": [
    {
     "data": {
      "text/plain": [
       "{'reg_alpha': 0.25,\n",
       " 'n_estimators': 125,\n",
       " 'min_samples_leaf': 6,\n",
       " 'max_depth': 9,\n",
       " 'learning_rate': 0.0620204081632653,\n",
       " 'booster': 'gbtree'}"
      ]
     },
     "execution_count": 135,
     "metadata": {},
     "output_type": "execute_result"
    }
   ],
   "source": [
    "rand_search_xgb_results.best_params_"
   ]
  },
  {
   "cell_type": "code",
   "execution_count": null,
   "metadata": {},
   "outputs": [],
   "source": []
  }
 ],
 "metadata": {
  "kernelspec": {
   "display_name": "Python 3",
   "language": "python",
   "name": "python3"
  },
  "language_info": {
   "codemirror_mode": {
    "name": "ipython",
    "version": 3
   },
   "file_extension": ".py",
   "mimetype": "text/x-python",
   "name": "python",
   "nbconvert_exporter": "python",
   "pygments_lexer": "ipython3",
   "version": "3.8.2"
  }
 },
 "nbformat": 4,
 "nbformat_minor": 4
}
